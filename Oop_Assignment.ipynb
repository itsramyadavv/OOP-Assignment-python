{
  "nbformat": 4,
  "nbformat_minor": 0,
  "metadata": {
    "colab": {
      "provenance": []
    },
    "kernelspec": {
      "name": "python3",
      "display_name": "Python 3"
    },
    "language_info": {
      "name": "python"
    }
  },
  "cells": [
    {
      "cell_type": "markdown",
      "source": [
        "# THEORY QUESTION"
      ],
      "metadata": {
        "id": "34BO1bsvm0KK"
      }
    },
    {
      "cell_type": "markdown",
      "metadata": {
        "id": "48c118b8"
      },
      "source": [
        "### Q1 What is Object-Oriented Programming (OOP)?\n",
        "\n",
        "ans - Object-Oriented Programming (OOP) a way of writing computer programs that organizes code around data, or \"objects\", rather than functions and logic. It helps make code more organized and easier to manage."
      ]
    },
    {
      "cell_type": "markdown",
      "metadata": {
        "id": "b07c488b"
      },
      "source": [
        "### Q2 What is a class in OOP?\n",
        "\n",
        "ans - A class is like a blueprint for creating objects. It defines the properties (data) and behaviors (methods or functions) that objects of that class will have."
      ]
    },
    {
      "cell_type": "markdown",
      "metadata": {
        "id": "33ad15a5"
      },
      "source": [
        "### Q3 What is an object in OOP?\n",
        "\n",
        "ans - An object  an instance of a class. It's a real-world entity created from the class blueprint with its own unique set of data."
      ]
    },
    {
      "cell_type": "markdown",
      "metadata": {
        "id": "7dcd7706"
      },
      "source": [
        "### Q4 What is the difference between abstraction and encapsulation?\n",
        "\n",
        "ans - Abstraction focuses on showing only the essential features of an object and hiding unnecessary details. Encapsulation is about bundling data and the methods that operate on that data within a single unit (the class), controlling access to the data."
      ]
    },
    {
      "cell_type": "markdown",
      "metadata": {
        "id": "3c107df3"
      },
      "source": [
        "### Q5 What are dunder methods in Python?\n",
        "\n",
        "ans - Dunder methods (short for \"double underscore\") are special methods in Python that have double underscores at the beginning and end of their names (e.g., `__init__`, `__str__`). They are used to implement operator overloading and other special behaviors."
      ]
    },
    {
      "cell_type": "markdown",
      "metadata": {
        "id": "b3fff58e"
      },
      "source": [
        "### Q6 Explain the concept of inheritance in OOP?\n",
        "\n",
        "ans - Inheritance is a mechanism where a new class (subclass or derived class) inherits properties and behaviors from an existing class (superclass or base class). This promotes code reusability."
      ]
    },
    {
      "cell_type": "markdown",
      "metadata": {
        "id": "847501b4"
      },
      "source": [
        "### Q7 What is polymorphism in OOP?\n",
        "\n",
        "ans - Polymorphism means \"many forms.\" In OOP, it allows objects of different classes to respond to the same method call in their own specific ways."
      ]
    },
    {
      "cell_type": "markdown",
      "metadata": {
        "id": "a5e6a681"
      },
      "source": [
        "### Q8 How is encapsulation achieved in Python?\n",
        "\n",
        "ans - Encapsulation in Python is typically achieved by using naming conventions (like a single underscore `_` for protected members and double underscore `__` for \"name mangling\" to make members more private) and properties."
      ]
    },
    {
      "cell_type": "markdown",
      "metadata": {
        "id": "bb35ba76"
      },
      "source": [
        "### Q9 What is a constructor in Python?\n",
        "\n",
        "ans - A constructor is a special method in a class (named `__init__`) that is automatically called when an object of the class is created. It is used to initialize the object's attributes."
      ]
    },
    {
      "cell_type": "markdown",
      "metadata": {
        "id": "d2ff20e1"
      },
      "source": [
        "### Q10 What are class and static methods in Python?\n",
        "\n",
        "ans - Class methods (`@classmethod`) are methods that operate on the class itself rather than an instance of the class. They receive the class as the first argument (`cls`). Static methods (`@staticmethod`) are methods that don't operate on either the class or the instance. They are like regular functions but are defined within a class for organizational purposes."
      ]
    },
    {
      "cell_type": "markdown",
      "metadata": {
        "id": "131f6e28"
      },
      "source": [
        "### Q11 What is method overloading in Python?\n",
        "\n",
        "ans - Method overloading is not directly supported in Python in the same way as some other languages. If you define multiple methods with the same name in a class, the last one defined will override the previous ones. You can achieve similar behavior using default arguments or variable-length arguments."
      ]
    },
    {
      "cell_type": "markdown",
      "metadata": {
        "id": "61e5fe38"
      },
      "source": [
        "### Q12 What is method overriding in OOP?\n",
        "\n",
        "ans - Method overriding is when a subclass provides its own implementation of a method that is already defined in its superclass. This allows a subclass to have a specific behavior for a method that is inherited."
      ]
    },
    {
      "cell_type": "markdown",
      "metadata": {
        "id": "0f6e16dd"
      },
      "source": [
        "### Q13 What is a property decorator in Python?\n",
        "\n",
        "ans - The `@property` decorator in Python is used to define methods that can be accessed like attributes. It's a way to add getter and setter logic to attribute access, allowing for control over how attributes are retrieved and modified."
      ]
    },
    {
      "cell_type": "markdown",
      "metadata": {
        "id": "d146b263"
      },
      "source": [
        "### Q14 Why is polymorphism important in OOP?\n",
        "\n",
        "ans - Polymorphism is important because it allows for writing more flexible and reusable code. It enables treating objects of different classes in a uniform way through a common interface or method call."
      ]
    },
    {
      "cell_type": "markdown",
      "metadata": {
        "id": "57a8dd9c"
      },
      "source": [
        "### Q15 What is an abstract class in Python?\n",
        "\n",
        "ans - An abstract class is a class that cannot be instantiated directly. It's meant to be a blueprint for other classes and often contains one or more abstract methods (methods declared but not implemented) that must be implemented by its subclasses. Python's `abc` module is used to create abstract classes."
      ]
    },
    {
      "cell_type": "markdown",
      "metadata": {
        "id": "17273a5d"
      },
      "source": [
        "### Q16 What are the advantages of OOP?\n",
        "\n",
        "ans - Advantages of OOP include code reusability (through inheritance), improved code organization and maintainability, easier debugging, and increased flexibility due to polymorphism and abstraction."
      ]
    },
    {
      "cell_type": "markdown",
      "metadata": {
        "id": "f5e798f0"
      },
      "source": [
        "### Q17 What is multiple inheritance in Python?\n",
        "\n",
        "ans - Multiple inheritance is when a class inherits from more than one parent class. This allows a class to inherit properties and behaviors from multiple sources."
      ]
    },
    {
      "cell_type": "markdown",
      "metadata": {
        "id": "337783f8"
      },
      "source": [
        "### Q18 What is the difference between a class variable and an instance variable?\n",
        "\n",
        "ans - A class variable is shared by all instances of a class and is defined within the class but outside of any methods. An instance variable is unique to each instance of a class and is typically defined within the `__init__` method using `self`."
      ]
    },
    {
      "cell_type": "markdown",
      "metadata": {
        "id": "16b97bcd"
      },
      "source": [
        "### Q19 Explain the purpose of ‘’__str__’ and ‘__repr__’ ‘ methods in Python?\n",
        "\n",
        "ans - `__str__` is used to define the \"informal\" or human-readable string representation of an object, usually for display to the end-user. `__repr__` is used to define the \"official\" or unambiguous string representation of an object, which should ideally be a valid Python expression that could recreate the object."
      ]
    },
    {
      "cell_type": "markdown",
      "metadata": {
        "id": "a07da116"
      },
      "source": [
        "### Q20 What is the significance of the ‘super()’ function in Python?\n",
        "\n",
        "ans - The `super()` function is used in a subclass to call a method from its superclass. It's commonly used in the `__init__` method of a subclass to call the `__init__` method of the parent class and initialize inherited attributes."
      ]
    },
    {
      "cell_type": "markdown",
      "metadata": {
        "id": "fbf70fd4"
      },
      "source": [
        "### Q21 What is the significance of the __del__ method in Python?\n",
        "\n",
        "ans - The `__del__` method, also known as the destructor, is called when an object is about to be destroyed or garbage collected. It can be used to perform cleanup operations, though its use is less common than in some other languages due to Python's automatic garbage collection."
      ]
    },
    {
      "cell_type": "markdown",
      "metadata": {
        "id": "88de169b"
      },
      "source": [
        "### Q22 What is the difference between @staticmethod and @classmethod in Python?\n",
        "\n",
        "ans - `@staticmethod` methods do not receive the instance or the class as the first argument. They behave like regular functions but are defined within a class. `@classmethod` methods receive the class (`cls`) as the first argument and operate on the class itself, often used for factory methods."
      ]
    },
    {
      "cell_type": "markdown",
      "metadata": {
        "id": "f3569481"
      },
      "source": [
        "### Q23 How does polymorphism work in Python with inheritance?\n",
        "\n",
        "ans - With inheritance, polymorphism works by allowing a subclass object to be treated as an instance of its superclass. If a method is overridden in the subclass, calling that method on the subclass object (even if it's being referenced as a superclass type) will execute the subclass's version of the method."
      ]
    },
    {
      "cell_type": "markdown",
      "metadata": {
        "id": "45fb4085"
      },
      "source": [
        "### Q24 What is method chaining in Python OOP?\n",
        "\n",
        "ans - Method chaining is a programming technique where multiple method calls are strung together on the same object. It typically works when each method in the chain returns the object itself (`return self`), allowing the next method to be called on the result of the previous one."
      ]
    },
    {
      "cell_type": "markdown",
      "metadata": {
        "id": "32052aab"
      },
      "source": [
        "### Q25 What is the purpose of the __call__ method in Python?\n",
        "\n",
        "ans - The `__call__` method allows an instance of a class to be called like a function. If a class defines this method, you can create an object of that class and then call that object using parentheses, just like calling a function."
      ]
    },
    {
      "cell_type": "markdown",
      "source": [
        "# PRACTICAL QUESTIONS"
      ],
      "metadata": {
        "id": "sMa_48xHnNCH"
      }
    },
    {
      "cell_type": "code",
      "metadata": {
        "colab": {
          "base_uri": "https://localhost:8080/"
        },
        "id": "6c54cdb0",
        "outputId": "582e4668-a236-4006-c367-149c466aefea"
      },
      "source": [
        "# 1. Create a parent class Animal with a method speak() and a child class Dog that overrides it.\n",
        "\n",
        "class Animal:\n",
        "    def speak(self):\n",
        "        print(\"Generic animal sound\")\n",
        "\n",
        "class Dog(Animal):\n",
        "    def speak(self):\n",
        "        print(\"Bark!\")\n",
        "\n",
        "# Demonstrate the overridden method\n",
        "animal = Animal()\n",
        "dog = Dog()\n",
        "\n",
        "animal.speak()  # Output: Generic animal sound\n",
        "dog.speak()     # Output: Bark!"
      ],
      "execution_count": 1,
      "outputs": [
        {
          "output_type": "stream",
          "name": "stdout",
          "text": [
            "Generic animal sound\n",
            "Bark!\n"
          ]
        }
      ]
    },
    {
      "cell_type": "code",
      "metadata": {
        "colab": {
          "base_uri": "https://localhost:8080/"
        },
        "id": "462317d5",
        "outputId": "3d027ac1-f4b8-4f02-fcf7-645fe2ee5dda"
      },
      "source": [
        "# 2. Write a program to create an abstract class Shape with a method area(). Derive classes Circle and Rectangle.\n",
        "\n",
        "from abc import ABC, abstractmethod\n",
        "import math\n",
        "\n",
        "class Shape(ABC):\n",
        "    @abstractmethod\n",
        "    def area(self):\n",
        "        pass\n",
        "\n",
        "class Circle(Shape):\n",
        "    def __init__(self, radius):\n",
        "        self.radius = radius\n",
        "\n",
        "    def area(self):\n",
        "        return math.pi * self.radius**2\n",
        "\n",
        "class Rectangle(Shape):\n",
        "    def __init__(self, width, height):\n",
        "        self.width = width\n",
        "        self.height = height\n",
        "\n",
        "    def area(self):\n",
        "        return self.width * self.height\n",
        "\n",
        "# Demonstrate the abstract class and derived classes\n",
        "# shape = Shape() # This would raise an error because Shape is abstract\n",
        "\n",
        "circle = Circle(5)\n",
        "rectangle = Rectangle(4, 6)\n",
        "\n",
        "print(f\"Area of circle: {circle.area()}\")       # Output: Area of circle: 78.539...\n",
        "print(f\"Area of rectangle: {rectangle.area()}\") # Output: Area of rectangle: 24"
      ],
      "execution_count": 2,
      "outputs": [
        {
          "output_type": "stream",
          "name": "stdout",
          "text": [
            "Area of circle: 78.53981633974483\n",
            "Area of rectangle: 24\n"
          ]
        }
      ]
    },
    {
      "cell_type": "code",
      "metadata": {
        "colab": {
          "base_uri": "https://localhost:8080/"
        },
        "id": "e2542a1a",
        "outputId": "456dcbc9-2e08-4eb5-fed5-a884771f09ac"
      },
      "source": [
        "# 3. Implement a multi-level inheritance scenario.\n",
        "\n",
        "class Vehicle:\n",
        "    def __init__(self, vehicle_type):\n",
        "        self.type = vehicle_type\n",
        "\n",
        "class Car(Vehicle):\n",
        "    def __init__(self, vehicle_type, model):\n",
        "        super().__init__(vehicle_type)\n",
        "        self.model = model\n",
        "\n",
        "class ElectricCar(Car):\n",
        "    def __init__(self, vehicle_type, model, battery_capacity):\n",
        "        super().__init__(vehicle_type, model)\n",
        "        self.battery = battery_capacity\n",
        "\n",
        "# Demonstrate multi-level inheritance\n",
        "electric_car = ElectricCar(\"car\", \"Tesla Model 3\", \"75 kWh\")\n",
        "\n",
        "print(f\"Vehicle type: {electric_car.type}\")\n",
        "print(f\"Car model: {electric_car.model}\")\n",
        "print(f\"Battery capacity: {electric_car.battery}\")"
      ],
      "execution_count": 3,
      "outputs": [
        {
          "output_type": "stream",
          "name": "stdout",
          "text": [
            "Vehicle type: car\n",
            "Car model: Tesla Model 3\n",
            "Battery capacity: 75 kWh\n"
          ]
        }
      ]
    },
    {
      "cell_type": "code",
      "metadata": {
        "colab": {
          "base_uri": "https://localhost:8080/"
        },
        "id": "4bad95a7",
        "outputId": "57369a2c-b74d-4b31-bcc4-4f986d66cd5a"
      },
      "source": [
        "# 4. Demonstrate polymorphism with a base class Bird and derived classes Sparrow and Penguin.\n",
        "\n",
        "class Bird:\n",
        "    def fly(self):\n",
        "        print(\"Birds can fly\")\n",
        "\n",
        "class Sparrow(Bird):\n",
        "    def fly(self):\n",
        "        print(\"Sparrows fly high\")\n",
        "\n",
        "class Penguin(Bird):\n",
        "    def fly(self):\n",
        "        print(\"Penguins cannot fly, they swim\")\n",
        "\n",
        "# Demonstrate polymorphism\n",
        "bird1 = Bird()\n",
        "bird2 = Sparrow()\n",
        "bird3 = Penguin()\n",
        "\n",
        "bird1.fly() # Output: Birds can fly\n",
        "bird2.fly() # Output: Sparrows fly high\n",
        "bird3.fly() # Output: Penguins cannot fly, they swim\n",
        "\n",
        "# Using a list of bird objects to show polymorphic behavior\n",
        "birds = [Bird(), Sparrow(), Penguin()]\n",
        "for bird in birds:\n",
        "    bird.fly()"
      ],
      "execution_count": 4,
      "outputs": [
        {
          "output_type": "stream",
          "name": "stdout",
          "text": [
            "Birds can fly\n",
            "Sparrows fly high\n",
            "Penguins cannot fly, they swim\n",
            "Birds can fly\n",
            "Sparrows fly high\n",
            "Penguins cannot fly, they swim\n"
          ]
        }
      ]
    },
    {
      "cell_type": "code",
      "metadata": {
        "colab": {
          "base_uri": "https://localhost:8080/"
        },
        "id": "e64af145",
        "outputId": "b2d9af06-1aac-4bba-b562-c584ae5a6b47"
      },
      "source": [
        "# 5. Demonstrate encapsulation with a BankAccount class.\n",
        "\n",
        "class BankAccount:\n",
        "    def __init__(self, initial_balance=0):\n",
        "        # Private attribute using name mangling\n",
        "        self.__balance = initial_balance\n",
        "\n",
        "    def deposit(self, amount):\n",
        "        if amount > 0:\n",
        "            self.__balance += amount\n",
        "            print(f\"Deposited: ${amount}. New balance: ${self.__balance}\")\n",
        "        else:\n",
        "            print(\"Deposit amount must be positive.\")\n",
        "\n",
        "    def withdraw(self, amount):\n",
        "        if amount > 0 and amount <= self.__balance:\n",
        "            self.__balance -= amount\n",
        "            print(f\"Withdrew: ${amount}. New balance: ${self.__balance}\")\n",
        "        elif amount > self.__balance:\n",
        "            print(\"Insufficient funds.\")\n",
        "        else:\n",
        "            print(\"Withdrawal amount must be positive.\")\n",
        "\n",
        "    def check_balance(self):\n",
        "        print(f\"Current balance: ${self.__balance}\")\n",
        "\n",
        "# Demonstrate encapsulation\n",
        "account = BankAccount(1000)\n",
        "\n",
        "account.deposit(500)\n",
        "account.withdraw(200)\n",
        "account.check_balance()\n",
        "\n",
        "# Trying to access the private attribute directly (will result in an AttributeError)\n",
        "# print(account.__balance)\n",
        "\n",
        "# Accessing using name mangling (not recommended for direct use, but shows how it works)\n",
        "# print(account._BankAccount__balance)"
      ],
      "execution_count": 5,
      "outputs": [
        {
          "output_type": "stream",
          "name": "stdout",
          "text": [
            "Deposited: $500. New balance: $1500\n",
            "Withdrew: $200. New balance: $1300\n",
            "Current balance: $1300\n"
          ]
        }
      ]
    },
    {
      "cell_type": "code",
      "metadata": {
        "colab": {
          "base_uri": "https://localhost:8080/"
        },
        "id": "d955ef5e",
        "outputId": "409ac6cf-76be-40c3-87b9-97248028a95f"
      },
      "source": [
        "# 6. Demonstrate runtime polymorphism using a method play() in a base class Instrument.\n",
        "\n",
        "class Instrument:\n",
        "    def play(self):\n",
        "        print(\"Playing an instrument\")\n",
        "\n",
        "class Guitar(Instrument):\n",
        "    def play(self):\n",
        "        print(\"Strumming the guitar\")\n",
        "\n",
        "class Piano(Instrument):\n",
        "    def play(self):\n",
        "        print(\"Playing the piano keys\")\n",
        "\n",
        "# Demonstrate runtime polymorphism\n",
        "instruments = [Instrument(), Guitar(), Piano()]\n",
        "\n",
        "for instrument in instruments:\n",
        "    instrument.play()"
      ],
      "execution_count": 6,
      "outputs": [
        {
          "output_type": "stream",
          "name": "stdout",
          "text": [
            "Playing an instrument\n",
            "Strumming the guitar\n",
            "Playing the piano keys\n"
          ]
        }
      ]
    },
    {
      "cell_type": "code",
      "metadata": {
        "colab": {
          "base_uri": "https://localhost:8080/"
        },
        "id": "922c9b07",
        "outputId": "450cdbe7-5d1e-4188-a549-272fa0551b12"
      },
      "source": [
        "# 7. Create a class MathOperations with a class method and a static method.\n",
        "\n",
        "class MathOperations:\n",
        "    total_operations = 0 # Class variable\n",
        "\n",
        "    @classmethod\n",
        "    def add_numbers(cls, a, b):\n",
        "        cls.total_operations += 1\n",
        "        return a + b\n",
        "\n",
        "    @staticmethod\n",
        "    def subtract_numbers(a, b):\n",
        "        return a - b\n",
        "\n",
        "# Demonstrate class and static methods\n",
        "sum_result = MathOperations.add_numbers(10, 5)\n",
        "diff_result = MathOperations.subtract_numbers(10, 5)\n",
        "\n",
        "print(f\"Sum: {sum_result}\")       # Output: Sum: 15\n",
        "print(f\"Difference: {diff_result}\") # Output: Difference: 5\n",
        "print(f\"Total operations: {MathOperations.total_operations}\") # Output: Total operations: 1"
      ],
      "execution_count": 7,
      "outputs": [
        {
          "output_type": "stream",
          "name": "stdout",
          "text": [
            "Sum: 15\n",
            "Difference: 5\n",
            "Total operations: 1\n"
          ]
        }
      ]
    },
    {
      "cell_type": "code",
      "metadata": {
        "colab": {
          "base_uri": "https://localhost:8080/"
        },
        "id": "e827a2b2",
        "outputId": "cda4dc4c-196a-48d5-f61a-0983fec417e5"
      },
      "source": [
        "# 8. Implement a class Person with a class method to count the total number of persons created.\n",
        "\n",
        "class Person:\n",
        "    number_of_persons = 0  # Class variable to count instances\n",
        "\n",
        "    def __init__(self, name):\n",
        "        self.name = name\n",
        "        Person.number_of_persons += 1 # Increment the class variable\n",
        "\n",
        "    @classmethod\n",
        "    def count_persons(cls):\n",
        "        return cls.number_of_persons\n",
        "\n",
        "# Demonstrate the class method\n",
        "person1 = Person(\"Ravi\")\n",
        "person2 = Person(\"rohan\")\n",
        "person3 = Person(\"bharat\")\n",
        "\n",
        "print(f\"Total number of persons created: {Person.count_persons()}\") # Output: Total number of persons created: 3"
      ],
      "execution_count": 22,
      "outputs": [
        {
          "output_type": "stream",
          "name": "stdout",
          "text": [
            "Total number of persons created: 3\n"
          ]
        }
      ]
    },
    {
      "cell_type": "code",
      "metadata": {
        "colab": {
          "base_uri": "https://localhost:8080/"
        },
        "id": "ae4a3ea1",
        "outputId": "3cffa127-22e2-4c3b-ef0f-af06cf59a9a5"
      },
      "source": [
        "# 9. Write a class Fraction and override the str method.\n",
        "\n",
        "class Fraction:\n",
        "    def __init__(self, numerator, denominator):\n",
        "        self.numerator = numerator\n",
        "        self.denominator = denominator\n",
        "\n",
        "    def __str__(self):\n",
        "        return f\"{self.numerator}/{self.denominator}\"\n",
        "\n",
        "# Demonstrate the overridden str method\n",
        "fraction = Fraction(3, 4)\n",
        "print(fraction) # Output: 3/4"
      ],
      "execution_count": 9,
      "outputs": [
        {
          "output_type": "stream",
          "name": "stdout",
          "text": [
            "3/4\n"
          ]
        }
      ]
    },
    {
      "cell_type": "code",
      "metadata": {
        "colab": {
          "base_uri": "https://localhost:8080/"
        },
        "id": "d60f99dc",
        "outputId": "5289205d-dc59-4368-e345-0244d07c1e47"
      },
      "source": [
        "# 10. Demonstrate operator overloading by creating a class Vector and overriding the add method.\n",
        "\n",
        "class Vector:\n",
        "    def __init__(self, x, y):\n",
        "        self.x = x\n",
        "        self.y = y\n",
        "\n",
        "    def __add__(self, other):\n",
        "        # Overload the '+' operator\n",
        "        return Vector(self.x + other.x, self.y + other.y)\n",
        "\n",
        "    def __str__(self):\n",
        "        return f\"({self.x}, {self.y})\"\n",
        "\n",
        "# Demonstrate operator overloading\n",
        "vector1 = Vector(2, 3)\n",
        "vector2 = Vector(4, 5)\n",
        "\n",
        "vector3 = vector1 + vector2\n",
        "\n",
        "print(f\"Vector 1: {vector1}\")\n",
        "print(f\"Vector 2: {vector2}\")\n",
        "print(f\"Sum of vectors: {vector3}\") # Output: Sum of vectors: (6, 8)"
      ],
      "execution_count": 10,
      "outputs": [
        {
          "output_type": "stream",
          "name": "stdout",
          "text": [
            "Vector 1: (2, 3)\n",
            "Vector 2: (4, 5)\n",
            "Sum of vectors: (6, 8)\n"
          ]
        }
      ]
    },
    {
      "cell_type": "code",
      "metadata": {
        "colab": {
          "base_uri": "https://localhost:8080/"
        },
        "id": "bbf9881b",
        "outputId": "31d3047a-6881-4fd4-8a5a-8f3250aa8340"
      },
      "source": [
        "# 11. Create a class Person with attributes name and age and a greet method.\n",
        "\n",
        "class Person:\n",
        "    def __init__(self, name, age):\n",
        "        self.name = name\n",
        "        self.age = age\n",
        "\n",
        "    def greet(self):\n",
        "        print(f\"Hello, my name is {self.name} and I am {self.age} years old.\")\n",
        "\n",
        "# Demonstrate the greet method\n",
        "person = Person(\"Mohan\", 30)\n",
        "person.greet()"
      ],
      "execution_count": 21,
      "outputs": [
        {
          "output_type": "stream",
          "name": "stdout",
          "text": [
            "Hello, my name is Mohan and I am 30 years old.\n"
          ]
        }
      ]
    },
    {
      "cell_type": "code",
      "metadata": {
        "colab": {
          "base_uri": "https://localhost:8080/"
        },
        "id": "2b2e69d4",
        "outputId": "2dbdc9fa-878c-437c-9fb8-c52c3410528c"
      },
      "source": [
        "# 12. Implement a class Student with attributes name and grades and an average_grade method.\n",
        "\n",
        "class Student:\n",
        "    def __init__(self, name, grades):\n",
        "        self.name = name\n",
        "        self.grades = grades # grades is expected to be a list of numbers\n",
        "\n",
        "    def average_grade(self):\n",
        "        if not self.grades:\n",
        "            return 0  # Return 0 if the grades list is empty\n",
        "        return sum(self.grades) / len(self.grades)\n",
        "\n",
        "# Demonstrate the average_grade method\n",
        "student = Student(\"ram\", [85, 90, 78, 92])\n",
        "print(f\"Average grade for {student.name}: {student.average_grade()}\")\n",
        "\n",
        "student_no_grades = Student(\"ROhan\", [])\n",
        "print(f\"Average grade for {student_no_grades.name}: {student_no_grades.average_grade()}\")"
      ],
      "execution_count": 20,
      "outputs": [
        {
          "output_type": "stream",
          "name": "stdout",
          "text": [
            "Average grade for ram: 86.25\n",
            "Average grade for ROhan: 0\n"
          ]
        }
      ]
    },
    {
      "cell_type": "code",
      "metadata": {
        "colab": {
          "base_uri": "https://localhost:8080/"
        },
        "id": "a81d0ad8",
        "outputId": "3e377fda-b309-4a35-bdf7-b254e174b831"
      },
      "source": [
        "# 13. Create a class Rectangle with methods set_dimensions and area.\n",
        "\n",
        "class Rectangle:\n",
        "    def __init__(self):\n",
        "        self.length = 0\n",
        "        self.width = 0\n",
        "\n",
        "    def set_dimensions(self, length, width):\n",
        "        if length > 0 and width > 0:\n",
        "            self.length = length\n",
        "            self.width = width\n",
        "        else:\n",
        "            print(\"Dimensions must be positive.\")\n",
        "\n",
        "    def area(self):\n",
        "        return self.length * self.width\n",
        "\n",
        "# Demonstrate the methods\n",
        "rectangle = Rectangle()\n",
        "rectangle.set_dimensions(10, 5)\n",
        "print(f\"Area of rectangle: {rectangle.area()}\") # Output: Area of rectangle: 50\n",
        "\n",
        "rectangle.set_dimensions(-2, 4) # Demonstrate the dimension validation\n",
        "print(f\"Area of rectangle: {rectangle.area()}\") # Output: Area of rectangle: 50 (dimensions were not set)"
      ],
      "execution_count": 13,
      "outputs": [
        {
          "output_type": "stream",
          "name": "stdout",
          "text": [
            "Area of rectangle: 50\n",
            "Dimensions must be positive.\n",
            "Area of rectangle: 50\n"
          ]
        }
      ]
    },
    {
      "cell_type": "code",
      "metadata": {
        "colab": {
          "base_uri": "https://localhost:8080/"
        },
        "id": "a324f0e6",
        "outputId": "17e9da4a-2dfb-4384-acbe-9234206cba27"
      },
      "source": [
        "# 14. Create a class Employee with a method calculate_salary() that computes the salary based on hours worked\n",
        "# and hourly rate. Create a derived class Manager that adds a bonus to the salary.\n",
        "\n",
        "class Employee:\n",
        "    def __init__(self, name, hours_worked, hourly_rate):\n",
        "        self.name = name\n",
        "        self.hours_worked = hours_worked\n",
        "        self.hourly_rate = hourly_rate\n",
        "\n",
        "    def calculate_salary(self):\n",
        "        return self.hours_worked * self.hourly_rate\n",
        "\n",
        "class Manager(Employee):\n",
        "    def __init__(self, name, hours_worked, hourly_rate, bonus):\n",
        "        super().__init__(name, hours_worked, hourly_rate)\n",
        "        self.bonus = bonus\n",
        "\n",
        "    def calculate_salary(self):\n",
        "        # Call the parent class's method and add the bonus\n",
        "        base_salary = super().calculate_salary()\n",
        "        return base_salary + self.bonus\n",
        "\n",
        "# Demonstrate the classes\n",
        "employee = Employee(\"Alice\", 40, 20)\n",
        "manager = Manager(\"Bob\", 40, 25, 500)\n",
        "\n",
        "print(f\"{employee.name}'s salary: ${employee.calculate_salary()}\")\n",
        "print(f\"{manager.name}'s salary: ${manager.calculate_salary()}\")"
      ],
      "execution_count": 23,
      "outputs": [
        {
          "output_type": "stream",
          "name": "stdout",
          "text": [
            "Alice's salary: $800\n",
            "Bob's salary: $1500\n"
          ]
        }
      ]
    },
    {
      "cell_type": "code",
      "metadata": {
        "colab": {
          "base_uri": "https://localhost:8080/"
        },
        "id": "f2861df0",
        "outputId": "f3aa00af-2c98-42b4-8f12-9cf93c76804b"
      },
      "source": [
        "# 15. Create a class Product with attributes name, price, and quantity. Implement a method total_price() that\n",
        "# calculates the total price of the product.\n",
        "\n",
        "class Product:\n",
        "    def __init__(self, name, price, quantity):\n",
        "        self.name = name\n",
        "        self.price = price\n",
        "        self.quantity = quantity\n",
        "\n",
        "    def total_price(self):\n",
        "        return self.price * self.quantity\n",
        "\n",
        "# Demonstrating the Product class\n",
        "product1 = Product(\"Laptop\", 1200, 1)\n",
        "product2 = Product(\"Mouse\", 25, 5)\n",
        "\n",
        "print(f\"Total price for {product1.name}: ${product1.total_price()}\")\n",
        "print(f\"Total price for {product2.name}: ${product2.total_price()}\")"
      ],
      "execution_count": 14,
      "outputs": [
        {
          "output_type": "stream",
          "name": "stdout",
          "text": [
            "Total price for Laptop: $1200\n",
            "Total price for Mouse: $125\n"
          ]
        }
      ]
    },
    {
      "cell_type": "code",
      "metadata": {
        "colab": {
          "base_uri": "https://localhost:8080/"
        },
        "id": "114d50ea",
        "outputId": "f3b590dc-0c05-414d-d1da-5e830878f0e2"
      },
      "source": [
        "# 16. Create a class Animal with an abstract method sound(). Create two derived classes Cow and Sheep that\n",
        "# implement the sound() method.\n",
        "\n",
        "from abc import ABC, abstractmethod\n",
        "\n",
        "class Animal(ABC):\n",
        "    @abstractmethod\n",
        "    def sound(self):\n",
        "        pass\n",
        "\n",
        "class Cow(Animal):\n",
        "    def sound(self):\n",
        "        return \"Moo!\"\n",
        "\n",
        "class Sheep(Animal):\n",
        "    def sound(self):\n",
        "        return \"Baa!\"\n",
        "\n",
        "# Demonstrate the abstract class and derived classes\n",
        "# animal = Animal() # This would raise an error\n",
        "\n",
        "cow = Cow()\n",
        "sheep = Sheep()\n",
        "\n",
        "print(f\"Cow says: {cow.sound()}\")\n",
        "print(f\"Sheep says: {sheep.sound()}\")"
      ],
      "execution_count": 15,
      "outputs": [
        {
          "output_type": "stream",
          "name": "stdout",
          "text": [
            "Cow says: Moo!\n",
            "Sheep says: Baa!\n"
          ]
        }
      ]
    },
    {
      "cell_type": "code",
      "metadata": {
        "colab": {
          "base_uri": "https://localhost:8080/"
        },
        "id": "a7114aba",
        "outputId": "d8bfebd4-5f87-43e0-928a-41f37da926f0"
      },
      "source": [
        "# 17. Create a class Book with attributes title, author, and year_published. Add a method get_book_info() that\n",
        "# returns a formatted string with the book's details.\n",
        "\n",
        "class Book:\n",
        "    def __init__(self, title, author, year_published):\n",
        "        self.title = title\n",
        "        self.author = author\n",
        "        self.year_published = year_published\n",
        "\n",
        "    def get_book_info(self):\n",
        "        return f\"Title: {self.title}, Author: {self.author}, Year Published: {self.year_published}\"\n",
        "\n",
        "# Demonstrate the Book class\n",
        "book1 = Book(\"The Hitchhiker's Guide to the Galaxy\", \"Douglas Adams\", 1979)\n",
        "print(book1.get_book_info())"
      ],
      "execution_count": 19,
      "outputs": [
        {
          "output_type": "stream",
          "name": "stdout",
          "text": [
            "Title: The Hitchhiker's Guide to the Galaxy, Author: Douglas Adams, Year Published: 1979\n"
          ]
        }
      ]
    },
    {
      "cell_type": "code",
      "metadata": {
        "colab": {
          "base_uri": "https://localhost:8080/"
        },
        "id": "05904ff1",
        "outputId": "a4cc00e5-541e-4ec0-9ff1-6255ce18e077"
      },
      "source": [
        "# 18. Create a class House with attributes address and price. Create a derived class Mansion that adds an\n",
        "# attribute number_of_rooms.\n",
        "\n",
        "class House:\n",
        "    def __init__(self, address, price):\n",
        "        self.address = address\n",
        "        self.price = price\n",
        "\n",
        "class Mansion(House):\n",
        "    def __init__(self, address, price, number_of_rooms):\n",
        "        super().__init__(address, price)\n",
        "        self.number_of_rooms = number_of_rooms\n",
        "\n",
        "# Demonstrate the classes\n",
        "house = House(\"delhi\", 250000)\n",
        "mansion = Mansion(\"123 Ram's mansion\", 1500000, 10)\n",
        "\n",
        "print(f\"House address: {house.address}, Price: ${house.price}\")\n",
        "print(f\"Mansion address: {mansion.address}, Price: ${mansion.price}, Rooms: {mansion.number_of_rooms}\")"
      ],
      "execution_count": 18,
      "outputs": [
        {
          "output_type": "stream",
          "name": "stdout",
          "text": [
            "House address: delhi, Price: $250000\n",
            "Mansion address: 123 Ram's mansion, Price: $1500000, Rooms: 10\n"
          ]
        }
      ]
    }
  ]
}